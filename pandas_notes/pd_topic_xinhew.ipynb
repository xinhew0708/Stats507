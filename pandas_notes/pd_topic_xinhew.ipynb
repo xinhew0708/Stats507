{
 "cells": [
  {
   "cell_type": "markdown",
   "id": "0a4ce1b2",
   "metadata": {},
   "source": [
    "# \n",
    "# Pandas Topic: Filling in Missing Data\n",
    "\n",
    "\n",
    "Xinhe Wang\n",
    "\n",
    "xinhew@umich.edu"
   ]
  },
  {
   "cell_type": "markdown",
   "id": "e6722558",
   "metadata": {},
   "source": [
    "## Fill in Missing Data\n",
    "\n",
    "- I will introduce some ways of using ```fillna()``` to fill in missing \n",
    "data (```NaN``` values) in a DataFrame.\n",
    "- One of the most easiest ways is to drop the rows with missing values.\n",
    "- However, data is generally expensive and we do not want to lose all \n",
    "the other columns of the row with missing data.\n",
    "- There are many ways to fill in the missing values:\n",
    "    - Treat the ```NaN``` value as a feature -> fill in with 0;\n",
    "    - Use statistics -> fill in with column mean/median/percentile/a\n",
    "    random value;\n",
    "    - Use the \"neighbors\" -> fill in with the last or next values;\n",
    "    - Prediction methods -> use regression/machine learning models to \n",
    "    predict the missing value."
   ]
  },
  {
   "cell_type": "markdown",
   "id": "1e7684f2",
   "metadata": {},
   "source": [
    "## Example Data\n",
    "- Here we generate a small example dataset with missing values.\n",
    "\n",
    "- Notice that if we want to indicate if the value in column \"b\" is larger\n",
    "than 0 in column \"f\", but for the missiing value in column \"b\", \n",
    "```df['b'] > 0``` returns ```False``` instead of a ```NaN``` value.\n",
    "Therefore, ```NaN``` values need to be delt with before further steps."
   ]
  },
  {
   "cell_type": "code",
   "execution_count": 1,
   "id": "cdf809fa",
   "metadata": {},
   "outputs": [],
   "source": [
    "import pandas as pd\n",
    "import numpy as np"
   ]
  },
  {
   "cell_type": "code",
   "execution_count": 2,
   "id": "47e85f53",
   "metadata": {},
   "outputs": [
    {
     "data": {
      "text/html": [
       "<div>\n",
       "<style scoped>\n",
       "    .dataframe tbody tr th:only-of-type {\n",
       "        vertical-align: middle;\n",
       "    }\n",
       "\n",
       "    .dataframe tbody tr th {\n",
       "        vertical-align: top;\n",
       "    }\n",
       "\n",
       "    .dataframe thead th {\n",
       "        text-align: right;\n",
       "    }\n",
       "</style>\n",
       "<table border=\"1\" class=\"dataframe\">\n",
       "  <thead>\n",
       "    <tr style=\"text-align: right;\">\n",
       "      <th></th>\n",
       "      <th>a</th>\n",
       "      <th>b</th>\n",
       "      <th>c</th>\n",
       "      <th>d</th>\n",
       "      <th>e</th>\n",
       "      <th>f</th>\n",
       "    </tr>\n",
       "  </thead>\n",
       "  <tbody>\n",
       "    <tr>\n",
       "      <th>0</th>\n",
       "      <td>-0.24766</td>\n",
       "      <td>-0.059548</td>\n",
       "      <td>0.134923</td>\n",
       "      <td>0.696526</td>\n",
       "      <td>0.0</td>\n",
       "      <td>False</td>\n",
       "    </tr>\n",
       "    <tr>\n",
       "      <th>1</th>\n",
       "      <td>0.69001</td>\n",
       "      <td>1.830447</td>\n",
       "      <td>0.975680</td>\n",
       "      <td>-1.869097</td>\n",
       "      <td>NaN</td>\n",
       "      <td>True</td>\n",
       "    </tr>\n",
       "    <tr>\n",
       "      <th>2</th>\n",
       "      <td>0.31765</td>\n",
       "      <td>NaN</td>\n",
       "      <td>0.915959</td>\n",
       "      <td>1.935111</td>\n",
       "      <td>0.0</td>\n",
       "      <td>False</td>\n",
       "    </tr>\n",
       "    <tr>\n",
       "      <th>3</th>\n",
       "      <td>NaN</td>\n",
       "      <td>0.619568</td>\n",
       "      <td>1.714032</td>\n",
       "      <td>-0.637520</td>\n",
       "      <td>0.0</td>\n",
       "      <td>True</td>\n",
       "    </tr>\n",
       "    <tr>\n",
       "      <th>4</th>\n",
       "      <td>NaN</td>\n",
       "      <td>0.391781</td>\n",
       "      <td>-1.681306</td>\n",
       "      <td>-0.247382</td>\n",
       "      <td>0.0</td>\n",
       "      <td>True</td>\n",
       "    </tr>\n",
       "  </tbody>\n",
       "</table>\n",
       "</div>"
      ],
      "text/plain": [
       "         a         b         c         d    e      f\n",
       "0 -0.24766 -0.059548  0.134923  0.696526  0.0  False\n",
       "1  0.69001  1.830447  0.975680 -1.869097  NaN   True\n",
       "2  0.31765       NaN  0.915959  1.935111  0.0  False\n",
       "3      NaN  0.619568  1.714032 -0.637520  0.0   True\n",
       "4      NaN  0.391781 -1.681306 -0.247382  0.0   True"
      ]
     },
     "execution_count": 2,
     "metadata": {},
     "output_type": "execute_result"
    }
   ],
   "source": [
    "df = pd.DataFrame(np.random.randn(5, 4),\n",
    "                  columns=['a', 'b', 'c', 'd'])\n",
    "df.iloc[2, 1] = np.nan\n",
    "df.iloc[3:5, 0] = np.nan\n",
    "df['e'] = [0, np.nan, 0, 0, 0]\n",
    "df['f'] = df['b']  > 0\n",
    "df"
   ]
  },
  {
   "cell_type": "markdown",
   "id": "35a8d24f",
   "metadata": {},
   "source": [
    "## Fill in with a scalar value\n",
    "- We can fill in ```NaN``` values with a designated value using \n",
    "```fillna()```."
   ]
  },
  {
   "cell_type": "code",
   "execution_count": 3,
   "id": "2fb20e21",
   "metadata": {},
   "outputs": [
    {
     "data": {
      "text/plain": [
       "0    0.0\n",
       "1    0.0\n",
       "2    0.0\n",
       "3    0.0\n",
       "4    0.0\n",
       "Name: e, dtype: float64"
      ]
     },
     "execution_count": 3,
     "metadata": {},
     "output_type": "execute_result"
    }
   ],
   "source": [
    "df['e'].fillna(0)"
   ]
  },
  {
   "cell_type": "code",
   "execution_count": 4,
   "id": "abc131ac",
   "metadata": {},
   "outputs": [
    {
     "data": {
      "text/plain": [
       "0        0.0\n",
       "1    missing\n",
       "2        0.0\n",
       "3        0.0\n",
       "4        0.0\n",
       "Name: e, dtype: object"
      ]
     },
     "execution_count": 4,
     "metadata": {},
     "output_type": "execute_result"
    }
   ],
   "source": [
    "df['e'].fillna(\"missing\")"
   ]
  },
  {
   "cell_type": "markdown",
   "id": "52fb0535",
   "metadata": {},
   "source": [
    "## Fill in with statistics (median, mean, ...)\n",
    "- One of the most commonly used techniques is to fill in missing values\n",
    "with column median or mean.\n",
    "- We show an instance of filling in missing values in column \"b\" with \n",
    "column mean."
   ]
  },
  {
   "cell_type": "code",
   "execution_count": 5,
   "id": "9661f461",
   "metadata": {},
   "outputs": [
    {
     "data": {
      "text/plain": [
       "0   -0.059548\n",
       "1    1.830447\n",
       "2    0.695562\n",
       "3    0.619568\n",
       "4    0.391781\n",
       "Name: b, dtype: float64"
      ]
     },
     "execution_count": 5,
     "metadata": {},
     "output_type": "execute_result"
    }
   ],
   "source": [
    "df['b'].fillna(df.mean()['b'])"
   ]
  },
  {
   "cell_type": "markdown",
   "id": "222bc551",
   "metadata": {},
   "source": [
    "## Fill in with forward or backward values\n",
    "- We can fill in with the missing values using its \"neighber\" using \n",
    "```fillna()```.\n",
    "- Can be used if the data is a time series.\n",
    "- When the ```method``` argument of ```fillna()``` is set as ```pad``` \n",
    "or ```ffill```, values are filled forward; when ```method``` is set as\n",
    "```bfill```or ```backfill```, values are filled backward.\n",
    "- The ```limit``` argument of ```fillna()``` sets the limit of number \n",
    "of rows it is allowed to fill."
   ]
  },
  {
   "cell_type": "code",
   "execution_count": 6,
   "id": "db70abab",
   "metadata": {},
   "outputs": [
    {
     "data": {
      "text/plain": [
       "0   -0.24766\n",
       "1    0.69001\n",
       "2    0.31765\n",
       "3    0.31765\n",
       "4        NaN\n",
       "Name: a, dtype: float64"
      ]
     },
     "execution_count": 6,
     "metadata": {},
     "output_type": "execute_result"
    }
   ],
   "source": [
    "df['a'].fillna(method='pad', limit=1)"
   ]
  },
  {
   "cell_type": "code",
   "execution_count": 7,
   "id": "11c93560",
   "metadata": {},
   "outputs": [
    {
     "data": {
      "text/plain": [
       "0   -0.24766\n",
       "1    0.69001\n",
       "2    0.31765\n",
       "3        NaN\n",
       "4        NaN\n",
       "Name: a, dtype: float64"
      ]
     },
     "execution_count": 7,
     "metadata": {},
     "output_type": "execute_result"
    }
   ],
   "source": [
    "df['a'].fillna(method='bfill', limit=1)"
   ]
  }
 ],
 "metadata": {
  "kernelspec": {
   "display_name": "Python 3",
   "language": "python",
   "name": "python3"
  },
  "language_info": {
   "codemirror_mode": {
    "name": "ipython",
    "version": 3
   },
   "file_extension": ".py",
   "mimetype": "text/x-python",
   "name": "python",
   "nbconvert_exporter": "python",
   "pygments_lexer": "ipython3",
   "version": "3.8.8"
  }
 },
 "nbformat": 4,
 "nbformat_minor": 5
}
